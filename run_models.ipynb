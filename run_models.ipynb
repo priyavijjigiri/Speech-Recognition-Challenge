{
 "cells": [
  {
   "cell_type": "code",
   "execution_count": null,
   "metadata": {
    "collapsed": true
   },
   "outputs": [],
   "source": [
    "import os\n",
    "import numpy as np\n",
    "import keras\n",
    "import librosa\n",
    "from keras import backend as K\n",
    "from keras.models import Sequential\n",
    "from keras.layers import Dense, Dropout, Flatten, Conv2D, MaxPooling2D\n",
    "from keras.utils import to_categorical\n",
    "from sklearn.model_selection import train_test_split\n",
    "\n",
    "from keras.models import Model, Sequential\n",
    "from keras.layers import Input, Conv2D, Flatten, GlobalMaxPooling2D , GlobalMaxPooling1D, MaxPooling2D, MaxPooling1D, Activation, BatchNormalization, GlobalAveragePooling2D, GlobalMaxPool2D, concatenate, Dense, Dropout\n",
    "from keras.layers import  Conv2D, MaxPooling2D, UpSampling2D, Lambda, Reshape\n",
    "from keras.layers import Input, GRU, RepeatVector, BatchNormalization, TimeDistributed, Conv1D\n",
    "from keras.layers import GlobalAveragePooling1D, LSTM\n",
    "from keras.optimizers import Adam\n",
    "from tensorflow.python.keras.utils import to_categorical\n",
    "\n",
    "from sklearn.metrics import classification_report,accuracy_score\n",
    "from keras.models import model_from_json\n",
    "\n",
    "from scipy.io import wavfile\n",
    "from tqdm import tqdm\n",
    "from pydub import AudioSegment\n",
    "\n",
    "\n",
    "path = \"data/train/audio\""
   ]
  },
  {
   "cell_type": "code",
   "execution_count": null,
   "metadata": {
    "collapsed": true
   },
   "outputs": [],
   "source": [
    "models = []\n",
    "weights = []\n",
    "for file in glob.glob(\"models/*.json\"):\n",
    "    models.append(file)\n",
    "for file in glob.glob(\"models/*.h5\"):\n",
    "    weights.append(file)"
   ]
  },
  {
   "cell_type": "code",
   "execution_count": null,
   "metadata": {
    "collapsed": true
   },
   "outputs": [],
   "source": [
    "## Choose a model that you want to run and the appropriate weight only\n",
    "model_to_run = models[4]\n",
    "weights_to_use = weights[1]"
   ]
  },
  {
   "cell_type": "code",
   "execution_count": null,
   "metadata": {
    "collapsed": true
   },
   "outputs": [],
   "source": [
    "json_file = open(model_to_run, 'r')\n",
    "model_json = json_file.read()\n",
    "json_file.close()\n",
    "model = model_from_json(model_json)\n",
    "\n",
    "model.load_weights(weights_to_use)"
   ]
  },
  {
   "cell_type": "code",
   "execution_count": null,
   "metadata": {
    "collapsed": true
   },
   "outputs": [],
   "source": [
    "# Get the training data \n",
    "# Be sure to check out augmentation = False or True, based on the model you have chosen\n",
    "X_train, X_test, y_train, y_test = def prepare_training_data(data, augmentation = False):"
   ]
  },
  {
   "cell_type": "code",
   "execution_count": null,
   "metadata": {
    "collapsed": true
   },
   "outputs": [],
   "source": [
    "y_train_cat = to_categorical(y_train)\n",
    "y_test_cat = to_categorical(y_test)"
   ]
  },
  {
   "cell_type": "code",
   "execution_count": null,
   "metadata": {
    "collapsed": true
   },
   "outputs": [],
   "source": [
    "y_train_cat = to_categorical(y_train)\n",
    "y_test_cat = to_categorical(y_test)"
   ]
  },
  {
   "cell_type": "code",
   "execution_count": null,
   "metadata": {
    "collapsed": true
   },
   "outputs": [],
   "source": [
    "# Do not reshape if you have chosen 1D models\n",
    "X_train_2d = X_train.reshape(X_train.shape[0], 12, 51, 1)\n",
    "X_test_2d = X_test.reshape(X_test.shape[0], 12, 51, 1)"
   ]
  },
  {
   "cell_type": "code",
   "execution_count": null,
   "metadata": {
    "collapsed": true
   },
   "outputs": [],
   "source": [
    "def accuracy(X_test,y_test_cat):\n",
    "    y_pred = model.predict(X_test)\n",
    "    y_pred_val = []\n",
    "    for row in y_pred:\n",
    "        y_pred_val.append(np.argmax(row))\n",
    "    y_pred_val = to_categorical(y_pred_val)\n",
    "    return accuracy_score(y_test_cat,y_pred_val),y_pred_val"
   ]
  },
  {
   "cell_type": "code",
   "execution_count": null,
   "metadata": {
    "collapsed": true
   },
   "outputs": [],
   "source": [
    "def get_report(X_train, X_test, y_train_cat, y_test_cat,X_train_2d,X_test_2d,TwoD_layer = False):\n",
    "    if TwoD_layer == True:\n",
    "        print('Test accuracy is',accuracy(X_test_2d,y_test_cat)[0] )\n",
    "        print('Train accuracy is',accuracy(X_train_2d,y_train_cat)[0])\n",
    "        y_pred_val = accuracy(X_test_2d,y_test_cat)[1]\n",
    "    else:\n",
    "        print('Test accuracy is',accuracy(X_test,y_test_cat) )\n",
    "        print('Train accuracy is',accuracy(X_train,y_train_cat))\n",
    "        y_pred_val = accuracy(X_test_2d,y_test_cat)[1]\n",
    "    print(\"classification report on validation data \\n\")\n",
    "    labels_actual = 'yes no up down left right on off stop go silence unknown'.split()\n",
    "    print(classification_report(y_test_cat,y_pred_val, target_names= labels_actual))"
   ]
  },
  {
   "cell_type": "code",
   "execution_count": null,
   "metadata": {
    "collapsed": true
   },
   "outputs": [],
   "source": [
    "get_report(X_train, X_test, y_train_cat, y_test_cat,X_train_2d,X_test_2d,True)"
   ]
  },
  {
   "cell_type": "code",
   "execution_count": null,
   "metadata": {
    "collapsed": true
   },
   "outputs": [],
   "source": [
    "mfcc_test = np.load('mfcc_test.npy')"
   ]
  },
  {
   "cell_type": "code",
   "execution_count": null,
   "metadata": {
    "collapsed": true
   },
   "outputs": [],
   "source": [
    "# Do not run this step if your chosen model has 1D convolutions\n",
    "mfcc_test = mfcc_test.reshape(-1,12,51,1)"
   ]
  },
  {
   "cell_type": "code",
   "execution_count": null,
   "metadata": {
    "collapsed": true
   },
   "outputs": [],
   "source": [
    "# predictions on test set\n",
    "y_pred = model.predict(mfcc_test)\n",
    "y_pred_val = []\n",
    "for row in (y_pred):\n",
    "    y_pred_val.append(np.argmax(row))"
   ]
  },
  {
   "cell_type": "code",
   "execution_count": null,
   "metadata": {
    "collapsed": true
   },
   "outputs": [],
   "source": [
    "labels_actual_dict = {0: 'right', 1:'yes', \n",
    "                     2:'no',3: 'up', 4: 'down', 5:'left', 6: 'on', 7: 'off',\n",
    "                     8: 'stop', 9: 'go', 10: 'silence', 11: 'unknown'}"
   ]
  },
  {
   "cell_type": "code",
   "execution_count": null,
   "metadata": {
    "collapsed": true
   },
   "outputs": [],
   "source": [
    "test_files = np.load('test_files.npy')"
   ]
  },
  {
   "cell_type": "code",
   "execution_count": null,
   "metadata": {
    "collapsed": true
   },
   "outputs": [],
   "source": [
    "with open('submission.csv','a') as f:\n",
    "    columnTitleRow = \"fname,label\\n\"\n",
    "    f.write(columnTitleRow)\n",
    "    \n",
    "    for i in range(len(y_pred_val)):\n",
    "        answer = labels_actual_dict[y_pred_val[i]]\n",
    "        row = '{},{}\\n'.format(test_files[i],answer)\n",
    "        f.write(row)"
   ]
  },
  {
   "cell_type": "code",
   "execution_count": null,
   "metadata": {
    "collapsed": true
   },
   "outputs": [],
   "source": []
  },
  {
   "cell_type": "code",
   "execution_count": null,
   "metadata": {
    "collapsed": true
   },
   "outputs": [],
   "source": []
  },
  {
   "cell_type": "code",
   "execution_count": null,
   "metadata": {
    "collapsed": true
   },
   "outputs": [],
   "source": []
  }
 ],
 "metadata": {
  "kernelspec": {
   "display_name": "Python 3",
   "language": "python",
   "name": "python3"
  },
  "language_info": {
   "codemirror_mode": {
    "name": "ipython",
    "version": 3
   },
   "file_extension": ".py",
   "mimetype": "text/x-python",
   "name": "python",
   "nbconvert_exporter": "python",
   "pygments_lexer": "ipython3",
   "version": "3.6.4"
  }
 },
 "nbformat": 4,
 "nbformat_minor": 2
}
