{
 "cells": [
  {
   "cell_type": "code",
   "execution_count": null,
   "metadata": {
    "collapsed": true
   },
   "outputs": [],
   "source": [
    "import os\n",
    "import numpy as np\n",
    "import keras\n",
    "import librosa\n",
    "from keras import backend as K\n",
    "from keras.models import Sequential\n",
    "from keras.layers import Dense, Dropout, Flatten, Conv2D, MaxPooling2D\n",
    "from keras.utils import to_categorical\n",
    "from sklearn.model_selection import train_test_split\n",
    "\n",
    "from keras.models import Model, Sequential\n",
    "from keras.layers import Input, Conv2D, Flatten, GlobalMaxPooling2D , GlobalMaxPooling1D, MaxPooling2D, MaxPooling1D, Activation, BatchNormalization, GlobalAveragePooling2D, GlobalMaxPool2D, concatenate, Dense, Dropout\n",
    "from keras.layers import  Conv2D, MaxPooling2D, UpSampling2D, Lambda, Reshape\n",
    "from keras.layers import Input, GRU, RepeatVector, BatchNormalization, TimeDistributed, Conv1D\n",
    "from keras.layers import GlobalAveragePooling1D, LSTM\n",
    "from keras.optimizers import Adam\n",
    "from tensorflow.python.keras.utils import to_categorical\n",
    "\n",
    "from sklearn.metrics import classification_report,accuracy_score\n",
    "\n",
    "from scipy.io import wavfile\n",
    "from tqdm import tqdm\n",
    "from pydub import AudioSegment\n",
    "\n",
    "\n",
    "path = \"data/train/audio\""
   ]
  },
  {
   "cell_type": "code",
   "execution_count": null,
   "metadata": {
    "collapsed": true
   },
   "outputs": [],
   "source": [
    "def prepare_training_data(data, augmentation = False):\n",
    "    if augmentation:\n",
    "        np_folder = \"data_np_mfcc_aug\"\n",
    "    else:\n",
    "        np_folder = 'data_np_mfcc'\n",
    "        \n",
    "    labels_actual = 'yes no up down left right on off stop go silence unknown'.split()\n",
    "    labels_actual.remove('right')\n",
    "    labels = os.listdir(data)\n",
    "    labels.remove('.DS_Store')\n",
    "    labels.remove('_background_noise_')\n",
    "\n",
    "    X = np.load(np_folder+ '/' + labels[0] + '.npy')\n",
    "    y = np.zeros(X.shape[0])\n",
    "    \n",
    "\n",
    "    for label in labels[1:]:\n",
    "        if label in labels_actual:\n",
    "            i = labels_actual.index(label)+1\n",
    "            x = np.load(np_folder+ '/' + label + '.npy')\n",
    "            X = np.vstack((X, x))\n",
    "            y = np.append(y, np.full(x.shape[0], fill_value= (i)))\n",
    "        else:\n",
    "            x = np.load(np_folder+ '/' + label + '.npy')\n",
    "            X = np.vstack((X, x))\n",
    "            y = np.append(y, np.full(x.shape[0], fill_value= (11))) \n",
    "            \n",
    "    assert X.shape[0] == len(y)\n",
    "    X_train, X_test, y_train, y_test = train_test_split(X, y, test_size= 0.2, shuffle=True)\n",
    "    return X_train, X_test, y_train, y_test"
   ]
  },
  {
   "cell_type": "code",
   "execution_count": null,
   "metadata": {
    "collapsed": true
   },
   "outputs": [],
   "source": [
    "X_train, X_test, y_train, y_test = prepare_training_data(path)"
   ]
  },
  {
   "cell_type": "code",
   "execution_count": null,
   "metadata": {
    "collapsed": true
   },
   "outputs": [],
   "source": [
    "np.unique(y_train)"
   ]
  },
  {
   "cell_type": "code",
   "execution_count": null,
   "metadata": {
    "collapsed": true
   },
   "outputs": [],
   "source": [
    "y_train_cat = to_categorical(y_train)\n",
    "y_test_cat = to_categorical(y_test)"
   ]
  },
  {
   "cell_type": "code",
   "execution_count": null,
   "metadata": {
    "collapsed": true
   },
   "outputs": [],
   "source": [
    "X_train.shape"
   ]
  },
  {
   "cell_type": "code",
   "execution_count": null,
   "metadata": {
    "collapsed": true
   },
   "outputs": [],
   "source": [
    "y_train_cat.shape"
   ]
  },
  {
   "cell_type": "markdown",
   "metadata": {},
   "source": [
    "# Conv1D - 1 layer only + FCN "
   ]
  },
  {
   "cell_type": "code",
   "execution_count": 68,
   "metadata": {
    "collapsed": true
   },
   "outputs": [],
   "source": [
    "model = Sequential()\n",
    "model.add(Conv1D(32, kernel_size= 2, activation='relu', input_shape=(12,51)))\n",
    "model.add(GlobalMaxPooling1D())\n",
    "model.add(Dropout(0.25))\n",
    "#model.add(Flatten())\n",
    "model.add(Dense(128, activation='relu'))\n",
    "model.add(Dropout(0.25))\n",
    "model.add(Dense(128, activation='relu'))\n",
    "model.add(Dropout(0.25))\n",
    "model.add(Dense(128, activation='relu'))\n",
    "model.add(Dropout(0.25))\n",
    "\n",
    "model.add(Dense(12, activation='softmax'))\n",
    "\n",
    "model.compile(loss=keras.losses.categorical_crossentropy,\n",
    "              optimizer='adam',\n",
    "              metrics=['accuracy'])"
   ]
  },
  {
   "cell_type": "code",
   "execution_count": 69,
   "metadata": {},
   "outputs": [
    {
     "name": "stdout",
     "output_type": "stream",
     "text": [
      "_________________________________________________________________\n",
      "Layer (type)                 Output Shape              Param #   \n",
      "=================================================================\n",
      "conv1d_2 (Conv1D)            (None, 11, 32)            3296      \n",
      "_________________________________________________________________\n",
      "global_max_pooling1d_2 (Glob (None, 32)                0         \n",
      "_________________________________________________________________\n",
      "dropout_21 (Dropout)         (None, 32)                0         \n",
      "_________________________________________________________________\n",
      "dense_26 (Dense)             (None, 128)               4224      \n",
      "_________________________________________________________________\n",
      "dropout_22 (Dropout)         (None, 128)               0         \n",
      "_________________________________________________________________\n",
      "dense_27 (Dense)             (None, 128)               16512     \n",
      "_________________________________________________________________\n",
      "dropout_23 (Dropout)         (None, 128)               0         \n",
      "_________________________________________________________________\n",
      "dense_28 (Dense)             (None, 128)               16512     \n",
      "_________________________________________________________________\n",
      "dropout_24 (Dropout)         (None, 128)               0         \n",
      "_________________________________________________________________\n",
      "dense_29 (Dense)             (None, 12)                1548      \n",
      "=================================================================\n",
      "Total params: 42,092\n",
      "Trainable params: 42,092\n",
      "Non-trainable params: 0\n",
      "_________________________________________________________________\n"
     ]
    }
   ],
   "source": [
    "model.summary()"
   ]
  },
  {
   "cell_type": "code",
   "execution_count": null,
   "metadata": {
    "collapsed": true
   },
   "outputs": [],
   "source": [
    "model.fit(X_train, y_train_cat, batch_size=1024, epochs=50,verbose=1)"
   ]
  },
  {
   "cell_type": "code",
   "execution_count": null,
   "metadata": {
    "collapsed": true
   },
   "outputs": [],
   "source": [
    "model_json_conv1d_1layer_mfcc = model.to_json()\n",
    "with open(\"models/model_conv1d_1layer_mfcc.json\",\"w\") as json_file:\n",
    "    json_file.write(model_json_conv1d_1layer_mfcc)"
   ]
  },
  {
   "cell_type": "code",
   "execution_count": null,
   "metadata": {
    "collapsed": true
   },
   "outputs": [],
   "source": [
    "model.save_weights(\"models/model_conv1d_1layer_mfcc.h5\")\n",
    "print(\"saved model\")"
   ]
  },
  {
   "cell_type": "code",
   "execution_count": null,
   "metadata": {
    "collapsed": true
   },
   "outputs": [],
   "source": [
    "score = model.evaluate(X_test, y_test_cat, verbose=1)\n",
    "print(score)"
   ]
  },
  {
   "cell_type": "code",
   "execution_count": null,
   "metadata": {
    "collapsed": true
   },
   "outputs": [],
   "source": [
    "y_pred = model.predict(X_test)\n",
    "y_pred_val = []\n",
    "for row in y_pred:\n",
    "    y_pred_val.append(np.argmax(row))\n",
    "y_pred_val = to_categorical(y_pred_val)"
   ]
  },
  {
   "cell_type": "code",
   "execution_count": null,
   "metadata": {
    "collapsed": true
   },
   "outputs": [],
   "source": [
    "print(classification_report(y_test_cat,y_pred_val, target_names= labels_actual))"
   ]
  },
  {
   "cell_type": "markdown",
   "metadata": {},
   "source": [
    "# Conv2D - 1 layer only + FCN"
   ]
  },
  {
   "cell_type": "code",
   "execution_count": 131,
   "metadata": {
    "collapsed": true
   },
   "outputs": [],
   "source": [
    "model = Sequential()\n",
    "model.add(Conv2D(32, kernel_size=(2, 2), activation='relu', input_shape=(12, 51,1)))\n",
    "model.add(MaxPooling2D(pool_size=(2, 2),padding ='same'))\n",
    "model.add(Dropout(0.25))\n",
    "model.add(Flatten())\n",
    "model.add(Dense(128, activation='relu'))\n",
    "model.add(Dropout(0.25))\n",
    "model.add(Dense(128, activation='relu'))\n",
    "model.add(Dropout(0.25))\n",
    "model.add(Dense(128, activation='relu'))\n",
    "model.add(Dropout(0.25))\n",
    "\n",
    "model.add(Dense(12, activation='softmax'))\n",
    "\n",
    "model.compile(loss=keras.losses.categorical_crossentropy,\n",
    "              optimizer='adam',\n",
    "              metrics=['accuracy'])"
   ]
  },
  {
   "cell_type": "code",
   "execution_count": 132,
   "metadata": {},
   "outputs": [
    {
     "name": "stdout",
     "output_type": "stream",
     "text": [
      "_________________________________________________________________\n",
      "Layer (type)                 Output Shape              Param #   \n",
      "=================================================================\n",
      "conv2d_30 (Conv2D)           (None, 11, 50, 32)        160       \n",
      "_________________________________________________________________\n",
      "max_pooling2d_24 (MaxPooling (None, 6, 25, 32)         0         \n",
      "_________________________________________________________________\n",
      "dropout_69 (Dropout)         (None, 6, 25, 32)         0         \n",
      "_________________________________________________________________\n",
      "flatten_13 (Flatten)         (None, 4800)              0         \n",
      "_________________________________________________________________\n",
      "dense_54 (Dense)             (None, 128)               614528    \n",
      "_________________________________________________________________\n",
      "dropout_70 (Dropout)         (None, 128)               0         \n",
      "_________________________________________________________________\n",
      "dense_55 (Dense)             (None, 128)               16512     \n",
      "_________________________________________________________________\n",
      "dropout_71 (Dropout)         (None, 128)               0         \n",
      "_________________________________________________________________\n",
      "dense_56 (Dense)             (None, 128)               16512     \n",
      "_________________________________________________________________\n",
      "dropout_72 (Dropout)         (None, 128)               0         \n",
      "_________________________________________________________________\n",
      "dense_57 (Dense)             (None, 12)                1548      \n",
      "=================================================================\n",
      "Total params: 649,260\n",
      "Trainable params: 649,260\n",
      "Non-trainable params: 0\n",
      "_________________________________________________________________\n"
     ]
    }
   ],
   "source": [
    "model.summary()"
   ]
  },
  {
   "cell_type": "code",
   "execution_count": null,
   "metadata": {
    "collapsed": true
   },
   "outputs": [],
   "source": [
    "X_train_2d = X_train.reshape(X_train.shape[0], 12, 51, 1)\n",
    "X_test_2d = X_test.reshape(X_test.shape[0], 12, 51, 1)"
   ]
  },
  {
   "cell_type": "code",
   "execution_count": null,
   "metadata": {
    "collapsed": true
   },
   "outputs": [],
   "source": [
    "model.fit(X_train_2d, y_train_cat, batch_size=1024, epochs=50,verbose=1)"
   ]
  },
  {
   "cell_type": "code",
   "execution_count": null,
   "metadata": {
    "collapsed": true
   },
   "outputs": [],
   "source": [
    "model.save_weights(\"models/model_conv2d_1layer_mfcc.h5\")\n",
    "print(\"saved model\")"
   ]
  },
  {
   "cell_type": "code",
   "execution_count": null,
   "metadata": {
    "collapsed": true
   },
   "outputs": [],
   "source": [
    "model_json_conv2d_1layer_mfcc = model.to_json()\n",
    "with open(\"models/model_conv2d_1layer_mfcc.json\",\"w\") as json_file:\n",
    "    json_file.write(model_json_conv2d_1layer_mfcc)"
   ]
  },
  {
   "cell_type": "code",
   "execution_count": null,
   "metadata": {
    "collapsed": true
   },
   "outputs": [],
   "source": [
    "score = model.evaluate(X_test_2d, y_test_cat, verbose=1)\n",
    "score"
   ]
  },
  {
   "cell_type": "code",
   "execution_count": null,
   "metadata": {
    "collapsed": true
   },
   "outputs": [],
   "source": [
    "y_pred = model.predict(X_test_2d)\n",
    "y_pred_val = []\n",
    "for row in y_pred:\n",
    "    y_pred_val.append(np.argmax(row))\n",
    "y_pred_val = to_categorical(y_pred_val)"
   ]
  },
  {
   "cell_type": "code",
   "execution_count": null,
   "metadata": {
    "collapsed": true
   },
   "outputs": [],
   "source": [
    "print(accuracy_score(y_test_cat,y_pred_val))"
   ]
  },
  {
   "cell_type": "code",
   "execution_count": null,
   "metadata": {
    "collapsed": true
   },
   "outputs": [],
   "source": [
    "print(classification_report(y_test_cat,y_pred_val, target_names= labels_actual))"
   ]
  },
  {
   "cell_type": "code",
   "execution_count": null,
   "metadata": {
    "collapsed": true
   },
   "outputs": [],
   "source": []
  },
  {
   "cell_type": "markdown",
   "metadata": {},
   "source": [
    "# Conv1D 3 layers - 100 epochs + FCN (Dense Network)"
   ]
  },
  {
   "cell_type": "code",
   "execution_count": 122,
   "metadata": {
    "collapsed": true
   },
   "outputs": [],
   "source": [
    "model = Sequential()\n",
    "model.add(Conv1D(16, kernel_size= 2, activation='relu', input_shape=(12,51)))\n",
    "model.add(BatchNormalization())\n",
    "model.add(Dropout(0.25))\n",
    "model.add(MaxPooling1D())\n",
    "\n",
    "model.add(Conv1D(32, kernel_size= 4, activation='relu',padding = 'same'))\n",
    "model.add(BatchNormalization())\n",
    "model.add(Dropout(0.25))\n",
    "model.add(MaxPooling1D())\n",
    "\n",
    "model.add(Conv1D(64, kernel_size= 6, activation='relu', padding = 'same'))\n",
    "model.add(BatchNormalization())\n",
    "model.add(Dropout(0.25))\n",
    "model.add(MaxPooling1D())\n",
    "\n",
    "\n",
    "model.add(Dense(128, activation='relu'))\n",
    "model.add(Dropout(0.25))\n",
    "model.add(Dense(128, activation='relu'))\n",
    "model.add(Dropout(0.25))\n",
    "model.add(Dense(128, activation='relu'))\n",
    "model.add(Dropout(0.25))\n",
    "\n",
    "model.add(Flatten())\n",
    "\n",
    "model.add(Dense(12, activation='softmax'))\n",
    "\n",
    "model.compile(loss=keras.losses.categorical_crossentropy,\n",
    "              optimizer='adam',\n",
    "              metrics=['accuracy'])"
   ]
  },
  {
   "cell_type": "code",
   "execution_count": 123,
   "metadata": {},
   "outputs": [
    {
     "name": "stdout",
     "output_type": "stream",
     "text": [
      "_________________________________________________________________\n",
      "Layer (type)                 Output Shape              Param #   \n",
      "=================================================================\n",
      "conv1d_21 (Conv1D)           (None, 11, 16)            1648      \n",
      "_________________________________________________________________\n",
      "batch_normalization_23 (Batc (None, 11, 16)            64        \n",
      "_________________________________________________________________\n",
      "dropout_63 (Dropout)         (None, 11, 16)            0         \n",
      "_________________________________________________________________\n",
      "max_pooling1d_14 (MaxPooling (None, 5, 16)             0         \n",
      "_________________________________________________________________\n",
      "conv1d_22 (Conv1D)           (None, 5, 32)             2080      \n",
      "_________________________________________________________________\n",
      "batch_normalization_24 (Batc (None, 5, 32)             128       \n",
      "_________________________________________________________________\n",
      "dropout_64 (Dropout)         (None, 5, 32)             0         \n",
      "_________________________________________________________________\n",
      "max_pooling1d_15 (MaxPooling (None, 2, 32)             0         \n",
      "_________________________________________________________________\n",
      "conv1d_23 (Conv1D)           (None, 2, 64)             12352     \n",
      "_________________________________________________________________\n",
      "batch_normalization_25 (Batc (None, 2, 64)             256       \n",
      "_________________________________________________________________\n",
      "dropout_65 (Dropout)         (None, 2, 64)             0         \n",
      "_________________________________________________________________\n",
      "max_pooling1d_16 (MaxPooling (None, 1, 64)             0         \n",
      "_________________________________________________________________\n",
      "dense_50 (Dense)             (None, 1, 128)            8320      \n",
      "_________________________________________________________________\n",
      "dropout_66 (Dropout)         (None, 1, 128)            0         \n",
      "_________________________________________________________________\n",
      "dense_51 (Dense)             (None, 1, 128)            16512     \n",
      "_________________________________________________________________\n",
      "dropout_67 (Dropout)         (None, 1, 128)            0         \n",
      "_________________________________________________________________\n",
      "dense_52 (Dense)             (None, 1, 128)            16512     \n",
      "_________________________________________________________________\n",
      "dropout_68 (Dropout)         (None, 1, 128)            0         \n",
      "_________________________________________________________________\n",
      "flatten_12 (Flatten)         (None, 128)               0         \n",
      "_________________________________________________________________\n",
      "dense_53 (Dense)             (None, 12)                1548      \n",
      "=================================================================\n",
      "Total params: 59,420\n",
      "Trainable params: 59,196\n",
      "Non-trainable params: 224\n",
      "_________________________________________________________________\n"
     ]
    }
   ],
   "source": [
    "model.summary()"
   ]
  },
  {
   "cell_type": "code",
   "execution_count": null,
   "metadata": {
    "collapsed": true
   },
   "outputs": [],
   "source": [
    " model.fit(X_train, y_train_cat, batch_size=1024, epochs=50, verbose=1)"
   ]
  },
  {
   "cell_type": "code",
   "execution_count": 125,
   "metadata": {
    "collapsed": true
   },
   "outputs": [],
   "source": [
    "model_json_conv1d_3layer_100 = model.to_json()\n",
    "with open(\"./model_conv1d_3layer_100.json\",\"w\") as json_file:\n",
    "    json_file.write(model_json_conv1d_3layer_100)"
   ]
  },
  {
   "cell_type": "code",
   "execution_count": 126,
   "metadata": {},
   "outputs": [
    {
     "name": "stdout",
     "output_type": "stream",
     "text": [
      "saved model\n"
     ]
    }
   ],
   "source": [
    "model.save_weights(\"./model_conv1d_3layer_100.h5\")\n",
    "print(\"saved model\")"
   ]
  },
  {
   "cell_type": "code",
   "execution_count": 127,
   "metadata": {
    "scrolled": true
   },
   "outputs": [
    {
     "name": "stdout",
     "output_type": "stream",
     "text": [
      "13344/13344 [==============================] - 2s 153us/step\n"
     ]
    },
    {
     "data": {
      "text/plain": [
       "[0.682146965027999, 0.7851468824940048]"
      ]
     },
     "execution_count": 127,
     "metadata": {},
     "output_type": "execute_result"
    }
   ],
   "source": [
    "score = model.evaluate(X_test, y_test_cat, verbose=1)\n",
    "score"
   ]
  },
  {
   "cell_type": "code",
   "execution_count": 128,
   "metadata": {
    "collapsed": true
   },
   "outputs": [],
   "source": [
    "y_pred = model.predict(X_test)\n",
    "y_pred_val = []\n",
    "for row in y_pred:\n",
    "    y_pred_val.append(np.argmax(row))\n",
    "y_pred_val = to_categorical(y_pred_val)"
   ]
  },
  {
   "cell_type": "code",
   "execution_count": 129,
   "metadata": {},
   "outputs": [
    {
     "name": "stdout",
     "output_type": "stream",
     "text": [
      "0.7851468824940048\n"
     ]
    }
   ],
   "source": [
    "print(accuracy_score(y_test_cat,y_pred_val))"
   ]
  },
  {
   "cell_type": "code",
   "execution_count": 130,
   "metadata": {},
   "outputs": [
    {
     "name": "stdout",
     "output_type": "stream",
     "text": [
      "             precision    recall  f1-score   support\n",
      "\n",
      "        yes       0.76      0.46      0.58       506\n",
      "         no       0.87      0.82      0.84       450\n",
      "         up       0.62      0.40      0.49       468\n",
      "       down       0.55      0.49      0.52       524\n",
      "       left       0.83      0.20      0.32       457\n",
      "      right       0.73      0.61      0.66       465\n",
      "         on       0.70      0.37      0.49       456\n",
      "        off       0.78      0.63      0.70       487\n",
      "       stop       0.81      0.74      0.77       474\n",
      "         go       0.60      0.37      0.46       507\n",
      "    silence       0.85      0.98      0.91       386\n",
      "    unknown       0.81      0.94      0.87      8164\n",
      "\n",
      "avg / total       0.78      0.79      0.77     13344\n",
      "\n"
     ]
    }
   ],
   "source": [
    "print(classification_report(y_test_cat,y_pred_val, target_names= labels_actual))"
   ]
  },
  {
   "cell_type": "code",
   "execution_count": null,
   "metadata": {
    "collapsed": true
   },
   "outputs": [],
   "source": []
  },
  {
   "cell_type": "markdown",
   "metadata": {},
   "source": [
    "# Conv2D 3 layers - 100 epochs + FCN (Dense Network)"
   ]
  },
  {
   "cell_type": "code",
   "execution_count": 113,
   "metadata": {
    "collapsed": true
   },
   "outputs": [],
   "source": [
    "model = Sequential()\n",
    "model.add(Conv2D(16, kernel_size=(2, 2), padding = 'same', activation='relu', input_shape=(12, 51,1)))\n",
    "model.add(MaxPooling2D(pool_size=(2, 2)))\n",
    "model.add(Dropout(0.25))\n",
    "\n",
    "model.add(Conv2D(32, kernel_size=(4, 4), padding = 'same',activation='relu'))\n",
    "model.add(MaxPooling2D(pool_size=(2, 2)))\n",
    "model.add(Dropout(0.25))\n",
    "\n",
    "model.add(Conv2D(64, kernel_size=(6, 6), padding = 'same',activation='relu'))\n",
    "model.add(MaxPooling2D(pool_size=(2, 2)))\n",
    "model.add(Dropout(0.25))\n",
    "\n",
    "model.add(Flatten())\n",
    "model.add(Dense(128, activation='relu'))\n",
    "model.add(Dropout(0.25))\n",
    "model.add(Dense(128, activation='relu'))\n",
    "model.add(Dropout(0.25))\n",
    "model.add(Dense(128, activation='relu'))\n",
    "model.add(Dropout(0.25))\n",
    "\n",
    "model.add(Dense(12, activation='softmax'))\n",
    "\n",
    "model.compile(loss=keras.losses.categorical_crossentropy,\n",
    "              optimizer=Adam(lr = 0.001),\n",
    "              metrics=['accuracy'])"
   ]
  },
  {
   "cell_type": "code",
   "execution_count": 114,
   "metadata": {
    "collapsed": true
   },
   "outputs": [],
   "source": [
    "X_train_2d = X_train.reshape(X_train.shape[0], 12, 51, 1)\n",
    "X_test_2d = X_test.reshape(X_test.shape[0], 12, 51, 1)"
   ]
  },
  {
   "cell_type": "code",
   "execution_count": null,
   "metadata": {
    "collapsed": true
   },
   "outputs": [],
   "source": [
    "model.fit(X_train_2d, y_train_cat, batch_size=1024, epochs=50, verbose=1)"
   ]
  },
  {
   "cell_type": "code",
   "execution_count": 116,
   "metadata": {
    "collapsed": true
   },
   "outputs": [],
   "source": [
    "model_json_conv2d_3layer_mel = model.to_json()\n",
    "with open(\"./model_conv2d_3layer_mel.json\",\"w\") as json_file:\n",
    "    json_file.write(model_json_conv2d_3layer_mel)"
   ]
  },
  {
   "cell_type": "code",
   "execution_count": 117,
   "metadata": {},
   "outputs": [
    {
     "name": "stdout",
     "output_type": "stream",
     "text": [
      "saved model\n"
     ]
    }
   ],
   "source": [
    "model.save_weights(\"./model_conv2d_3layer_mel.h5\")\n",
    "print(\"saved model\")"
   ]
  },
  {
   "cell_type": "code",
   "execution_count": 118,
   "metadata": {},
   "outputs": [
    {
     "name": "stdout",
     "output_type": "stream",
     "text": [
      "13344/13344 [==============================] - 2s 133us/step\n",
      "[0.20691717945807558, 0.938923860911271]\n"
     ]
    }
   ],
   "source": [
    "score = model.evaluate(X_test_2d, y_test_cat, verbose=1)\n",
    "print(score)"
   ]
  },
  {
   "cell_type": "code",
   "execution_count": 119,
   "metadata": {
    "collapsed": true
   },
   "outputs": [],
   "source": [
    "y_pred = model.predict(X_test_2d)\n",
    "y_pred_val = []\n",
    "for row in y_pred:\n",
    "    y_pred_val.append(np.argmax(row))\n",
    "y_pred_val = to_categorical(y_pred_val)"
   ]
  },
  {
   "cell_type": "code",
   "execution_count": 120,
   "metadata": {},
   "outputs": [
    {
     "name": "stdout",
     "output_type": "stream",
     "text": [
      "0.938923860911271\n"
     ]
    }
   ],
   "source": [
    "print(accuracy_score(y_test_cat,y_pred_val))"
   ]
  },
  {
   "cell_type": "code",
   "execution_count": 121,
   "metadata": {},
   "outputs": [
    {
     "name": "stdout",
     "output_type": "stream",
     "text": [
      "             precision    recall  f1-score   support\n",
      "\n",
      "        yes       0.90      0.91      0.91       506\n",
      "         no       0.96      0.97      0.97       450\n",
      "         up       0.85      0.88      0.86       468\n",
      "       down       0.96      0.82      0.89       524\n",
      "       left       0.84      0.86      0.85       457\n",
      "      right       0.99      0.89      0.94       465\n",
      "         on       0.84      0.86      0.85       456\n",
      "        off       0.89      0.90      0.89       487\n",
      "       stop       0.96      0.93      0.95       474\n",
      "         go       0.87      0.74      0.80       507\n",
      "    silence       0.98      1.00      0.99       386\n",
      "    unknown       0.96      0.97      0.97      8164\n",
      "\n",
      "avg / total       0.94      0.94      0.94     13344\n",
      "\n"
     ]
    }
   ],
   "source": [
    "print(classification_report(y_test_cat,y_pred_val, target_names= labels_actual))"
   ]
  },
  {
   "cell_type": "code",
   "execution_count": null,
   "metadata": {
    "collapsed": true
   },
   "outputs": [],
   "source": []
  },
  {
   "cell_type": "markdown",
   "metadata": {},
   "source": [
    "# Final Model - LSTM  + CNN - Without Data Augmentation"
   ]
  },
  {
   "cell_type": "code",
   "execution_count": 142,
   "metadata": {},
   "outputs": [
    {
     "name": "stdout",
     "output_type": "stream",
     "text": [
      "_________________________________________________________________\n",
      "Layer (type)                 Output Shape              Param #   \n",
      "=================================================================\n",
      "conv2d_44 (Conv2D)           (None, 12, 51, 256)       6656      \n",
      "_________________________________________________________________\n",
      "max_pooling2d_38 (MaxPooling (None, 12, 51, 256)       0         \n",
      "_________________________________________________________________\n",
      "batch_normalization_26 (Batc (None, 12, 51, 256)       1024      \n",
      "_________________________________________________________________\n",
      "conv2d_45 (Conv2D)           (None, 10, 50, 128)       196736    \n",
      "_________________________________________________________________\n",
      "batch_normalization_27 (Batc (None, 10, 50, 128)       512       \n",
      "_________________________________________________________________\n",
      "conv2d_46 (Conv2D)           (None, 9, 49, 64)         32832     \n",
      "_________________________________________________________________\n",
      "max_pooling2d_39 (MaxPooling (None, 8, 48, 64)         0         \n",
      "_________________________________________________________________\n",
      "batch_normalization_28 (Batc (None, 8, 48, 64)         256       \n",
      "_________________________________________________________________\n",
      "conv2d_47 (Conv2D)           (None, 8, 48, 1)          577       \n",
      "_________________________________________________________________\n",
      "reshape_4 (Reshape)          (None, 8, 48)             0         \n",
      "_________________________________________________________________\n",
      "lstm_8 (LSTM)                (None, 8, 256)            312320    \n",
      "_________________________________________________________________\n",
      "lstm_9 (LSTM)                (None, 8, 256)            525312    \n",
      "_________________________________________________________________\n",
      "dense_66 (Dense)             (None, 8, 128)            32896     \n",
      "_________________________________________________________________\n",
      "time_distributed_4 (TimeDist (None, 8, 64)             8256      \n",
      "_________________________________________________________________\n",
      "activation_7 (Activation)    (None, 8, 64)             0         \n",
      "_________________________________________________________________\n",
      "flatten_16 (Flatten)         (None, 512)               0         \n",
      "_________________________________________________________________\n",
      "dense_68 (Dense)             (None, 12)                6156      \n",
      "_________________________________________________________________\n",
      "activation_8 (Activation)    (None, 12)                0         \n",
      "=================================================================\n",
      "Total params: 1,123,533\n",
      "Trainable params: 1,122,637\n",
      "Non-trainable params: 896\n",
      "_________________________________________________________________\n"
     ]
    }
   ],
   "source": [
    "model = Sequential()\n",
    "\n",
    "model.add(Conv2D(256, kernel_size = (5,5), input_shape = (12, 51, 1), padding = 'same'))\n",
    "model.add(MaxPooling2D(pool_size = (5, 5), strides = (1,1), padding = 'same'))\n",
    "model.add(BatchNormalization())\n",
    "\n",
    "model.add(Conv2D(128, kernel_size = (3,2), activation = 'relu'))\n",
    "model.add(BatchNormalization())\n",
    "\n",
    "model.add(Conv2D(64, kernel_size = (2,2)))\n",
    "model.add(MaxPooling2D(pool_size = (2, 2), strides = (1,1)))\n",
    "model.add(BatchNormalization())\n",
    "\n",
    "model.add(Conv2D(1, kernel_size = (3,3), padding = 'same'))\n",
    "\n",
    "model.add(Reshape((8, 48)))\n",
    "\n",
    "model.add(LSTM(256, return_sequences = True))\n",
    "model.add(LSTM(256, return_sequences = True))\n",
    "\n",
    "model.add(Dense(128))\n",
    "\n",
    "model.add(TimeDistributed(Dense(64)))\n",
    "model.add(Activation('relu'))\n",
    "model.add(Flatten())\n",
    "model.add(Dense(12))\n",
    "model.add(Activation('softmax'))\n",
    "\n",
    "adam = Adam(lr=0.001, beta_1=0.9, beta_2=0.999, epsilon=1e-08, decay=0.0)\n",
    "model.compile(loss=\"categorical_crossentropy\", optimizer = adam, metrics = ['accuracy'])\n",
    "model.summary()"
   ]
  },
  {
   "cell_type": "code",
   "execution_count": 143,
   "metadata": {
    "collapsed": true
   },
   "outputs": [],
   "source": [
    "X_train_2d = X_train.reshape(X_train.shape[0], 12, 51, 1)\n",
    "X_test_2d = X_test.reshape(X_test.shape[0], 12, 51, 1)"
   ]
  },
  {
   "cell_type": "code",
   "execution_count": null,
   "metadata": {
    "collapsed": true
   },
   "outputs": [],
   "source": [
    "model.fit(X_train_2d, y_train_cat, batch_size=256, epochs=20, verbose=1)"
   ]
  },
  {
   "cell_type": "code",
   "execution_count": 145,
   "metadata": {
    "collapsed": true
   },
   "outputs": [],
   "source": [
    "model_json_conv2d_lstm_mfcc_51 = model.to_json()\n",
    "with open(\"models/model_conv2d_lstm_mfcc_51.json\",\"w\") as json_file:\n",
    "    json_file.write(model_json_conv2d_lstm_mfcc_51)"
   ]
  },
  {
   "cell_type": "code",
   "execution_count": 146,
   "metadata": {},
   "outputs": [
    {
     "name": "stdout",
     "output_type": "stream",
     "text": [
      "saved model\n"
     ]
    }
   ],
   "source": [
    "model.save_weights(\"models/model_conv2d_lstm_mfcc_51.h5\")\n",
    "print(\"saved model\")"
   ]
  },
  {
   "cell_type": "code",
   "execution_count": 147,
   "metadata": {},
   "outputs": [
    {
     "name": "stdout",
     "output_type": "stream",
     "text": [
      "13344/13344 [==============================] - 11s 856us/step\n",
      "[0.3330962593990771, 0.9318794964028777]\n"
     ]
    }
   ],
   "source": [
    "score = model.evaluate(X_test_2d, y_test_cat, verbose=1)\n",
    "print(score)"
   ]
  },
  {
   "cell_type": "code",
   "execution_count": 150,
   "metadata": {
    "collapsed": true
   },
   "outputs": [],
   "source": [
    "y_pred = model.predict(X_test_2d)\n",
    "y_pred_val = []\n",
    "for row in y_pred:\n",
    "    y_pred_val.append(np.argmax(row))\n",
    "y_pred_val = to_categorical(y_pred_val)"
   ]
  },
  {
   "cell_type": "code",
   "execution_count": 151,
   "metadata": {},
   "outputs": [
    {
     "name": "stdout",
     "output_type": "stream",
     "text": [
      "0.9318794964028777\n"
     ]
    }
   ],
   "source": [
    "print(accuracy_score(y_test_cat,y_pred_val))"
   ]
  },
  {
   "cell_type": "code",
   "execution_count": 152,
   "metadata": {},
   "outputs": [
    {
     "name": "stdout",
     "output_type": "stream",
     "text": [
      "             precision    recall  f1-score   support\n",
      "\n",
      "        yes       0.97      0.83      0.89       506\n",
      "         no       0.98      0.92      0.95       450\n",
      "         up       0.78      0.91      0.84       468\n",
      "       down       0.89      0.87      0.88       524\n",
      "       left       0.91      0.79      0.85       457\n",
      "      right       0.93      0.89      0.91       465\n",
      "         on       0.84      0.86      0.85       456\n",
      "        off       0.84      0.90      0.87       487\n",
      "       stop       0.93      0.92      0.93       474\n",
      "         go       0.86      0.81      0.84       507\n",
      "    silence       0.99      0.99      0.99       386\n",
      "    unknown       0.95      0.97      0.96      8164\n",
      "\n",
      "avg / total       0.93      0.93      0.93     13344\n",
      "\n"
     ]
    }
   ],
   "source": [
    "print(classification_report(y_test_cat,y_pred_val, target_names= labels_actual))"
   ]
  },
  {
   "cell_type": "code",
   "execution_count": null,
   "metadata": {
    "collapsed": true
   },
   "outputs": [],
   "source": []
  },
  {
   "cell_type": "markdown",
   "metadata": {},
   "source": [
    "# Final Model - LSTM  + CNN - With Data Augmentation"
   ]
  },
  {
   "cell_type": "code",
   "execution_count": 102,
   "metadata": {},
   "outputs": [
    {
     "name": "stdout",
     "output_type": "stream",
     "text": [
      "_________________________________________________________________\n",
      "Layer (type)                 Output Shape              Param #   \n",
      "=================================================================\n",
      "conv2d_124 (Conv2D)          (None, 12, 51, 256)       6656      \n",
      "_________________________________________________________________\n",
      "max_pooling2d_98 (MaxPooling (None, 12, 51, 256)       0         \n",
      "_________________________________________________________________\n",
      "batch_normalization_115 (Bat (None, 12, 51, 256)       1024      \n",
      "_________________________________________________________________\n",
      "conv2d_125 (Conv2D)          (None, 10, 50, 128)       196736    \n",
      "_________________________________________________________________\n",
      "batch_normalization_116 (Bat (None, 10, 50, 128)       512       \n",
      "_________________________________________________________________\n",
      "conv2d_126 (Conv2D)          (None, 9, 49, 64)         32832     \n",
      "_________________________________________________________________\n",
      "max_pooling2d_99 (MaxPooling (None, 8, 48, 64)         0         \n",
      "_________________________________________________________________\n",
      "batch_normalization_117 (Bat (None, 8, 48, 64)         256       \n",
      "_________________________________________________________________\n",
      "conv2d_127 (Conv2D)          (None, 8, 48, 1)          577       \n",
      "_________________________________________________________________\n",
      "reshape_10 (Reshape)         (None, 8, 48)             0         \n",
      "_________________________________________________________________\n",
      "lstm_8 (LSTM)                (None, 8, 256)            312320    \n",
      "_________________________________________________________________\n",
      "lstm_9 (LSTM)                (None, 8, 256)            525312    \n",
      "_________________________________________________________________\n",
      "dense_53 (Dense)             (None, 8, 128)            32896     \n",
      "_________________________________________________________________\n",
      "time_distributed_4 (TimeDist (None, 8, 64)             8256      \n",
      "_________________________________________________________________\n",
      "activation_20 (Activation)   (None, 8, 64)             0         \n",
      "_________________________________________________________________\n",
      "flatten_13 (Flatten)         (None, 512)               0         \n",
      "_________________________________________________________________\n",
      "dense_55 (Dense)             (None, 12)                6156      \n",
      "_________________________________________________________________\n",
      "activation_21 (Activation)   (None, 12)                0         \n",
      "=================================================================\n",
      "Total params: 1,123,533\n",
      "Trainable params: 1,122,637\n",
      "Non-trainable params: 896\n",
      "_________________________________________________________________\n"
     ]
    }
   ],
   "source": [
    "model = Sequential()\n",
    "\n",
    "model.add(Conv2D(256, kernel_size = (5,5), input_shape = (12, 51, 1), padding = 'same'))\n",
    "model.add(MaxPooling2D(pool_size = (5, 5), strides = (1,1), padding = 'same'))\n",
    "model.add(BatchNormalization())\n",
    "\n",
    "model.add(Conv2D(128, kernel_size = (3,2), activation = 'relu'))\n",
    "model.add(BatchNormalization())\n",
    "\n",
    "model.add(Conv2D(64, kernel_size = (2,2)))\n",
    "model.add(MaxPooling2D(pool_size = (2, 2), strides = (1,1)))\n",
    "model.add(BatchNormalization())\n",
    "\n",
    "model.add(Conv2D(1, kernel_size = (3,3), padding = 'same'))\n",
    "\n",
    "model.add(Reshape((8, 48)))\n",
    "\n",
    "model.add(LSTM(256, return_sequences = True))\n",
    "model.add(LSTM(256, return_sequences = True))\n",
    "\n",
    "model.add(Dense(128))\n",
    "\n",
    "model.add(TimeDistributed(Dense(64)))\n",
    "model.add(Activation('relu'))\n",
    "model.add(Flatten())\n",
    "model.add(Dense(12))\n",
    "model.add(Activation('softmax'))\n",
    "\n",
    "adam = Adam(lr=0.001, beta_1=0.9, beta_2=0.999, epsilon=1e-08, decay=0.0)\n",
    "model.compile(loss=\"categorical_crossentropy\", optimizer = adam, metrics = ['accuracy'])\n",
    "model.summary()"
   ]
  },
  {
   "cell_type": "code",
   "execution_count": 103,
   "metadata": {
    "collapsed": true
   },
   "outputs": [],
   "source": [
    "X_train_2d = X_train.reshape(X_train.shape[0], 12, 51, 1)\n",
    "X_test_2d = X_test.reshape(X_test.shape[0], 12, 51, 1)"
   ]
  },
  {
   "cell_type": "code",
   "execution_count": null,
   "metadata": {
    "collapsed": true
   },
   "outputs": [],
   "source": [
    "model.fit(X_train_2d, y_train_cat, batch_size=256, epochs=20, verbose=1)"
   ]
  },
  {
   "cell_type": "code",
   "execution_count": 105,
   "metadata": {
    "collapsed": true
   },
   "outputs": [],
   "source": [
    "model_json_conv2d_lstm_mfcc_aug = model.to_json()\n",
    "with open(\"models/model_conv2d_lstm_mfcc_aug.json\",\"w\") as json_file:\n",
    "    json_file.write(model_json_conv2d_lstm_mfcc_aug)"
   ]
  },
  {
   "cell_type": "code",
   "execution_count": 106,
   "metadata": {},
   "outputs": [
    {
     "name": "stdout",
     "output_type": "stream",
     "text": [
      "saved model\n"
     ]
    }
   ],
   "source": [
    "model.save_weights(\"models/model_conv2d_lstm_mfcc_aug.h5\")\n",
    "print(\"saved model\")"
   ]
  },
  {
   "cell_type": "code",
   "execution_count": null,
   "metadata": {
    "collapsed": true
   },
   "outputs": [],
   "source": [
    "score = model.evaluate(X_test_2d, y_test_cat, verbose=1)\n",
    "print(score)"
   ]
  },
  {
   "cell_type": "code",
   "execution_count": 108,
   "metadata": {
    "collapsed": true
   },
   "outputs": [],
   "source": [
    "y_pred = model.predict(X_test_2d)\n",
    "y_pred_val = []\n",
    "for row in y_pred:\n",
    "    y_pred_val.append(np.argmax(row))\n",
    "y_pred_val = to_categorical(y_pred_val)"
   ]
  },
  {
   "cell_type": "code",
   "execution_count": null,
   "metadata": {
    "collapsed": true
   },
   "outputs": [],
   "source": [
    "print(accuracy_score(y_test_cat,y_pred_val))"
   ]
  },
  {
   "cell_type": "code",
   "execution_count": 110,
   "metadata": {},
   "outputs": [
    {
     "name": "stdout",
     "output_type": "stream",
     "text": [
      "             precision    recall  f1-score   support\n",
      "\n",
      "        yes       0.91      0.90      0.91      1925\n",
      "         no       0.98      0.92      0.95      1933\n",
      "         up       0.91      0.85      0.88      1900\n",
      "       down       0.91      0.87      0.89      1917\n",
      "       left       0.95      0.77      0.85      1811\n",
      "      right       0.93      0.89      0.91      1959\n",
      "         on       0.89      0.86      0.88      1932\n",
      "        off       0.93      0.86      0.89      1854\n",
      "       stop       0.97      0.85      0.91      1891\n",
      "         go       0.85      0.82      0.84      1817\n",
      "    silence       0.99      0.99      0.99       801\n",
      "    unknown       0.94      0.98      0.96     32837\n",
      "\n",
      "avg / total       0.94      0.94      0.94     52577\n",
      "\n"
     ]
    }
   ],
   "source": [
    "print(classification_report(y_test_cat,y_pred_val, target_names= labels_actual))"
   ]
  },
  {
   "cell_type": "code",
   "execution_count": null,
   "metadata": {
    "collapsed": true
   },
   "outputs": [],
   "source": []
  },
  {
   "cell_type": "code",
   "execution_count": null,
   "metadata": {
    "collapsed": true
   },
   "outputs": [],
   "source": []
  },
  {
   "cell_type": "code",
   "execution_count": null,
   "metadata": {
    "collapsed": true
   },
   "outputs": [],
   "source": []
  },
  {
   "cell_type": "code",
   "execution_count": null,
   "metadata": {
    "collapsed": true
   },
   "outputs": [],
   "source": []
  },
  {
   "cell_type": "code",
   "execution_count": null,
   "metadata": {
    "collapsed": true
   },
   "outputs": [],
   "source": []
  }
 ],
 "metadata": {
  "kernelspec": {
   "display_name": "Python 3",
   "language": "python",
   "name": "python3"
  },
  "language_info": {
   "codemirror_mode": {
    "name": "ipython",
    "version": 3
   },
   "file_extension": ".py",
   "mimetype": "text/x-python",
   "name": "python",
   "nbconvert_exporter": "python",
   "pygments_lexer": "ipython3",
   "version": "3.6.4"
  }
 },
 "nbformat": 4,
 "nbformat_minor": 2
}
